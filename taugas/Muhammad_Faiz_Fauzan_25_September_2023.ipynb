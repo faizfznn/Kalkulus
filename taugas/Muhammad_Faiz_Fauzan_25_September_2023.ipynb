{
  "nbformat": 4,
  "nbformat_minor": 0,
  "metadata": {
    "colab": {
      "provenance": []
    },
    "kernelspec": {
      "name": "python3",
      "display_name": "Python 3"
    },
    "language_info": {
      "name": "python"
    }
  },
  "cells": [
    {
      "cell_type": "code",
      "execution_count": 3,
      "metadata": {
        "id": "m8NFbTpY-TnV"
      },
      "outputs": [],
      "source": [
        "def fungsi():\n",
        "  print(\"Hello world\")\n",
        "  print(7*2)"
      ]
    },
    {
      "cell_type": "code",
      "source": [
        "fungsi()"
      ],
      "metadata": {
        "colab": {
          "base_uri": "https://localhost:8080/"
        },
        "id": "0kJD4ULW_j0-",
        "outputId": "668f7cf3-8e0d-4b6e-9484-b4adee7fc67c"
      },
      "execution_count": 4,
      "outputs": [
        {
          "output_type": "stream",
          "name": "stdout",
          "text": [
            "Hello world\n",
            "14\n"
          ]
        }
      ]
    },
    {
      "cell_type": "code",
      "source": [
        "def fungsi1(nama):\n",
        "  print(\"Selamat siang \" + nama)"
      ],
      "metadata": {
        "id": "nVQ_rk_7Aw65"
      },
      "execution_count": 9,
      "outputs": []
    },
    {
      "cell_type": "code",
      "source": [
        "fungsi1(\"Faiz\")"
      ],
      "metadata": {
        "colab": {
          "base_uri": "https://localhost:8080/"
        },
        "id": "COnaemkaBBd7",
        "outputId": "799e7908-af55-44f0-ce54-4decfbc20903"
      },
      "execution_count": 11,
      "outputs": [
        {
          "output_type": "stream",
          "name": "stdout",
          "text": [
            "Selamat siang Faiz\n"
          ]
        }
      ]
    },
    {
      "cell_type": "code",
      "source": [
        "def fungsi2(namaDepan, namaBelakang):\n",
        "  print(namaDepan +\" \"+ namaBelakang)"
      ],
      "metadata": {
        "id": "S5t1WQ9DCLxE"
      },
      "execution_count": 16,
      "outputs": []
    },
    {
      "cell_type": "code",
      "source": [
        "fungsi2(\"Faiz\", \"Fauzan\")"
      ],
      "metadata": {
        "colab": {
          "base_uri": "https://localhost:8080/"
        },
        "id": "HJlYNDcxCM0o",
        "outputId": "c3c9784f-1ad0-4369-e3bd-b26e1396fc44"
      },
      "execution_count": 17,
      "outputs": [
        {
          "output_type": "stream",
          "name": "stdout",
          "text": [
            "Faiz Fauzan\n"
          ]
        }
      ]
    },
    {
      "cell_type": "code",
      "source": [
        "fungsi2(\"Faiz\")"
      ],
      "metadata": {
        "colab": {
          "base_uri": "https://localhost:8080/",
          "height": 175
        },
        "id": "hnvox1aNCqht",
        "outputId": "7bb58415-fadc-47ec-f778-23177072b477"
      },
      "execution_count": 19,
      "outputs": [
        {
          "output_type": "error",
          "ename": "TypeError",
          "evalue": "ignored",
          "traceback": [
            "\u001b[0;31m---------------------------------------------------------------------------\u001b[0m",
            "\u001b[0;31mTypeError\u001b[0m                                 Traceback (most recent call last)",
            "\u001b[0;32m<ipython-input-19-0f33ea5d6661>\u001b[0m in \u001b[0;36m<cell line: 1>\u001b[0;34m()\u001b[0m\n\u001b[0;32m----> 1\u001b[0;31m \u001b[0mfungsi2\u001b[0m\u001b[0;34m(\u001b[0m\u001b[0;34m\"Faiz\"\u001b[0m\u001b[0;34m)\u001b[0m\u001b[0;34m\u001b[0m\u001b[0;34m\u001b[0m\u001b[0m\n\u001b[0m",
            "\u001b[0;31mTypeError\u001b[0m: fungsi2() missing 1 required positional argument: 'namaBelakang'"
          ]
        }
      ]
    },
    {
      "cell_type": "code",
      "source": [
        "def fungsi3(*nama):\n",
        "  print(\"Lulusan terbaik \" + nama[2])"
      ],
      "metadata": {
        "id": "1lk8pp-LDHy0"
      },
      "execution_count": 59,
      "outputs": []
    },
    {
      "cell_type": "code",
      "source": [
        "fungsi3(\"Faiz\", \"Bintang\", \"Hafiz\", \"Budi\")"
      ],
      "metadata": {
        "colab": {
          "base_uri": "https://localhost:8080/"
        },
        "id": "7_MzZsCdDWgC",
        "outputId": "603d4a29-38ce-47e6-a933-20277ee2e5fc"
      },
      "execution_count": 60,
      "outputs": [
        {
          "output_type": "stream",
          "name": "stdout",
          "text": [
            "Lulusan terbaik Hafiz\n"
          ]
        }
      ]
    },
    {
      "cell_type": "code",
      "source": [
        "def fungsi4(mahasiswa1, mahasiswa2, mahasiswa3):\n",
        "  print(\"Mahasiswa terbaik \" + mahasiswa3)"
      ],
      "metadata": {
        "id": "hYVrQlynFGWT"
      },
      "execution_count": 42,
      "outputs": []
    },
    {
      "cell_type": "code",
      "source": [
        "fungsi4(mahasiswa1=\"Caca\", mahasiswa3=\"Ari\", mahasiswa2=\"Budi\")"
      ],
      "metadata": {
        "colab": {
          "base_uri": "https://localhost:8080/"
        },
        "id": "vk2yI9zEFcrC",
        "outputId": "8855304d-1f46-4301-80a5-c9deacb2304d"
      },
      "execution_count": 43,
      "outputs": [
        {
          "output_type": "stream",
          "name": "stdout",
          "text": [
            "Mahasiswa terbaik Ari\n"
          ]
        }
      ]
    },
    {
      "cell_type": "code",
      "source": [
        "fungsi4(\"Caca\", \"Ari\", \"Budi\")"
      ],
      "metadata": {
        "colab": {
          "base_uri": "https://localhost:8080/"
        },
        "id": "ufhRQk-fFQS3",
        "outputId": "b6aa3545-3bfd-4ae8-904b-16b249bea238"
      },
      "execution_count": 38,
      "outputs": [
        {
          "output_type": "stream",
          "name": "stdout",
          "text": [
            "Mahasiswa terbaik Budi\n"
          ]
        }
      ]
    },
    {
      "cell_type": "code",
      "source": [
        "def fungsi5(**nama):\n",
        "  print(nama)"
      ],
      "metadata": {
        "id": "Yc7B3XrOGJUj"
      },
      "execution_count": 87,
      "outputs": []
    },
    {
      "cell_type": "code",
      "source": [
        "fungsi5(nama = 'Ari',)"
      ],
      "metadata": {
        "colab": {
          "base_uri": "https://localhost:8080/"
        },
        "id": "nkR8PIKLHG3M",
        "outputId": "3fb80bac-5011-40f4-bd3e-913549ebf1b0"
      },
      "execution_count": 88,
      "outputs": [
        {
          "output_type": "stream",
          "name": "stdout",
          "text": [
            "{'nama': 'Ari'}\n"
          ]
        }
      ]
    },
    {
      "cell_type": "code",
      "source": [
        "def fungsi6(mahasiswa=\"Faiz\"):\n",
        "  print(\"Lulusan terbaik \" + mahasiswa)"
      ],
      "metadata": {
        "id": "iybJPeBqJMNw"
      },
      "execution_count": 89,
      "outputs": []
    },
    {
      "cell_type": "code",
      "source": [
        "fungsi6()"
      ],
      "metadata": {
        "colab": {
          "base_uri": "https://localhost:8080/"
        },
        "id": "53PCU8kVJ0hi",
        "outputId": "76a6520c-fe88-4fef-f3d3-881c4f023fdf"
      },
      "execution_count": 92,
      "outputs": [
        {
          "output_type": "stream",
          "name": "stdout",
          "text": [
            "Lulusan terbaik Faiz\n"
          ]
        }
      ]
    },
    {
      "cell_type": "code",
      "source": [
        "fungsi6(\"Budi\")"
      ],
      "metadata": {
        "colab": {
          "base_uri": "https://localhost:8080/"
        },
        "id": "5xkIw69nJMZq",
        "outputId": "1bb1fd64-0d76-4482-b92d-3e46d994f6d0"
      },
      "execution_count": 91,
      "outputs": [
        {
          "output_type": "stream",
          "name": "stdout",
          "text": [
            "Lulusan terbaik Budi\n"
          ]
        }
      ]
    },
    {
      "cell_type": "code",
      "source": [
        "def fungsi7(mahasiswa):\n",
        "  print(\"Lulusan terbaik \" + mahasiswa)"
      ],
      "metadata": {
        "id": "W-xsnylNKNYy"
      },
      "execution_count": 93,
      "outputs": []
    },
    {
      "cell_type": "code",
      "source": [
        "fungsi7()"
      ],
      "metadata": {
        "colab": {
          "base_uri": "https://localhost:8080/",
          "height": 175
        },
        "id": "UclBbL6KKRmq",
        "outputId": "08e18022-4d5c-4138-b890-82f99aebf3f8"
      },
      "execution_count": 95,
      "outputs": [
        {
          "output_type": "error",
          "ename": "TypeError",
          "evalue": "ignored",
          "traceback": [
            "\u001b[0;31m---------------------------------------------------------------------------\u001b[0m",
            "\u001b[0;31mTypeError\u001b[0m                                 Traceback (most recent call last)",
            "\u001b[0;32m<ipython-input-95-4e5cd25ccede>\u001b[0m in \u001b[0;36m<cell line: 1>\u001b[0;34m()\u001b[0m\n\u001b[0;32m----> 1\u001b[0;31m \u001b[0mfungsi7\u001b[0m\u001b[0;34m(\u001b[0m\u001b[0;34m)\u001b[0m\u001b[0;34m\u001b[0m\u001b[0;34m\u001b[0m\u001b[0m\n\u001b[0m",
            "\u001b[0;31mTypeError\u001b[0m: fungsi7() missing 1 required positional argument: 'mahasiswa'"
          ]
        }
      ]
    },
    {
      "cell_type": "code",
      "source": [
        "fungsi7(\"Yaya\")"
      ],
      "metadata": {
        "colab": {
          "base_uri": "https://localhost:8080/"
        },
        "id": "Hz--j-TGKYBZ",
        "outputId": "5a333daf-9e82-4fe5-a8b3-b423021bcb61"
      },
      "execution_count": 96,
      "outputs": [
        {
          "output_type": "stream",
          "name": "stdout",
          "text": [
            "Lulusan terbaik Yaya\n"
          ]
        }
      ]
    },
    {
      "cell_type": "code",
      "source": [
        "def fungsi8(x):\n",
        " return x+1"
      ],
      "metadata": {
        "id": "8ATNCUjgKbSw"
      },
      "execution_count": 100,
      "outputs": []
    },
    {
      "cell_type": "code",
      "source": [
        "fungsi8(8)"
      ],
      "metadata": {
        "colab": {
          "base_uri": "https://localhost:8080/"
        },
        "id": "xPfkbabJKnYw",
        "outputId": "e3ac711f-0896-474a-ec28-3e943a3cd79f"
      },
      "execution_count": 101,
      "outputs": [
        {
          "output_type": "execute_result",
          "data": {
            "text/plain": [
              "9"
            ]
          },
          "metadata": {},
          "execution_count": 101
        }
      ]
    },
    {
      "cell_type": "code",
      "source": [
        "def fungsi9():\n",
        "  pass"
      ],
      "metadata": {
        "id": "hNpVPsxNLHRM"
      },
      "execution_count": 103,
      "outputs": []
    },
    {
      "cell_type": "code",
      "source": [
        "def fungsi10():\n",
        "  \"\"\"xxxxxxx\"\"\""
      ],
      "metadata": {
        "id": "98boQEpZLVJp"
      },
      "execution_count": 102,
      "outputs": []
    },
    {
      "cell_type": "code",
      "source": [
        "help(fungsi10)"
      ],
      "metadata": {
        "colab": {
          "base_uri": "https://localhost:8080/"
        },
        "id": "B-X-tLDCMAP-",
        "outputId": "28a661ef-0b4b-44a4-ea07-d16ff765120b"
      },
      "execution_count": 107,
      "outputs": [
        {
          "output_type": "stream",
          "name": "stdout",
          "text": [
            "Help on function fungsi10 in module __main__:\n",
            "\n",
            "fungsi10()\n",
            "    xxxxxxx\n",
            "\n"
          ]
        }
      ]
    },
    {
      "cell_type": "code",
      "source": [
        "def fungsi11():\n",
        "  \"\"\"fungsi ini untuk mencetak hello world\"\"\"\n",
        "  print(\"Hello world\")"
      ],
      "metadata": {
        "id": "4Mk2wbVVNQme"
      },
      "execution_count": 108,
      "outputs": []
    },
    {
      "cell_type": "code",
      "source": [
        "fungsi11()"
      ],
      "metadata": {
        "colab": {
          "base_uri": "https://localhost:8080/"
        },
        "id": "o0L9nFAANaCh",
        "outputId": "5ed156be-aaec-49b6-9ff4-c5ef99e6ad9f"
      },
      "execution_count": 109,
      "outputs": [
        {
          "output_type": "stream",
          "name": "stdout",
          "text": [
            "Hello world\n"
          ]
        }
      ]
    },
    {
      "cell_type": "code",
      "source": [
        "help(fungsi11)"
      ],
      "metadata": {
        "colab": {
          "base_uri": "https://localhost:8080/"
        },
        "id": "bABxVwEyNshL",
        "outputId": "01767e3e-565f-4f10-dc9d-277eb86a9c73"
      },
      "execution_count": 110,
      "outputs": [
        {
          "output_type": "stream",
          "name": "stdout",
          "text": [
            "Help on function fungsi11 in module __main__:\n",
            "\n",
            "fungsi11()\n",
            "    fungsi ini untuk mencetak hello world\n",
            "\n"
          ]
        }
      ]
    },
    {
      "cell_type": "code",
      "source": [
        "def fungsi12():\n",
        "  return None"
      ],
      "metadata": {
        "id": "MWqUcgWRNzkT"
      },
      "execution_count": 112,
      "outputs": []
    },
    {
      "cell_type": "code",
      "source": [
        "help(print)"
      ],
      "metadata": {
        "colab": {
          "base_uri": "https://localhost:8080/"
        },
        "id": "zD2NNZSfLHdP",
        "outputId": "0af05668-6b35-4d01-a278-49a8a507abc2"
      },
      "execution_count": 104,
      "outputs": [
        {
          "output_type": "stream",
          "name": "stdout",
          "text": [
            "Help on built-in function print in module builtins:\n",
            "\n",
            "print(...)\n",
            "    print(value, ..., sep=' ', end='\\n', file=sys.stdout, flush=False)\n",
            "    \n",
            "    Prints the values to a stream, or to sys.stdout by default.\n",
            "    Optional keyword arguments:\n",
            "    file:  a file-like object (stream); defaults to the current sys.stdout.\n",
            "    sep:   string inserted between values, default a space.\n",
            "    end:   string appended after the last value, default a newline.\n",
            "    flush: whether to forcibly flush the stream.\n",
            "\n"
          ]
        }
      ]
    }
  ]
}