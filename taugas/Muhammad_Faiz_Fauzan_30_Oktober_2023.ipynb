{
  "nbformat": 4,
  "nbformat_minor": 0,
  "metadata": {
    "colab": {
      "provenance": []
    },
    "kernelspec": {
      "name": "python3",
      "display_name": "Python 3"
    },
    "language_info": {
      "name": "python"
    }
  },
  "cells": [
    {
      "cell_type": "code",
      "execution_count": 8,
      "metadata": {
        "id": "eRdNZlcKPYx5"
      },
      "outputs": [],
      "source": [
        "import matplotlib.pyplot as plt\n",
        "import numpy as np\n",
        "from sympy import *\n",
        "init_printing()\n",
        "x = symbols ('x')\n",
        "from sympy import symbols"
      ]
    },
    {
      "cell_type": "code",
      "source": [
        "def fungsi1(x):\n",
        "  return 1/x\n"
      ],
      "metadata": {
        "id": "m6B8PB-XS7wh"
      },
      "execution_count": 4,
      "outputs": []
    },
    {
      "cell_type": "code",
      "source": [
        "diff(1/x,x)"
      ],
      "metadata": {
        "colab": {
          "base_uri": "https://localhost:8080/",
          "height": 51
        },
        "id": "FNb7tJVffJZ4",
        "outputId": "b4940d6f-4434-4e37-9c22-26d9650b9707"
      },
      "execution_count": 9,
      "outputs": [
        {
          "output_type": "execute_result",
          "data": {
            "text/plain": [
              "-1 \n",
              "───\n",
              "  2\n",
              " x "
            ],
            "text/latex": "$\\displaystyle - \\frac{1}{x^{2}}$"
          },
          "metadata": {},
          "execution_count": 9
        }
      ]
    },
    {
      "cell_type": "code",
      "source": [
        "diff((-x**2)+(2*x)+1,x)"
      ],
      "metadata": {
        "colab": {
          "base_uri": "https://localhost:8080/",
          "height": 38
        },
        "id": "ci1793UYf6qy",
        "outputId": "525b5a7f-28b3-4665-ada2-a3dd6663978b"
      },
      "execution_count": 15,
      "outputs": [
        {
          "output_type": "execute_result",
          "data": {
            "text/plain": [
              "2 - 2⋅x"
            ],
            "text/latex": "$\\displaystyle 2 - 2 x$"
          },
          "metadata": {},
          "execution_count": 15
        }
      ]
    },
    {
      "cell_type": "code",
      "source": [
        "diff(sin(x),x)"
      ],
      "metadata": {
        "colab": {
          "base_uri": "https://localhost:8080/",
          "height": 38
        },
        "id": "dAVrE4wEfOix",
        "outputId": "628e943a-1ee3-4a33-e917-d3e7f526b560"
      },
      "execution_count": 10,
      "outputs": [
        {
          "output_type": "execute_result",
          "data": {
            "text/plain": [
              "cos(x)"
            ],
            "text/latex": "$\\displaystyle \\cos{\\left(x \\right)}$"
          },
          "metadata": {},
          "execution_count": 10
        }
      ]
    },
    {
      "cell_type": "code",
      "source": [
        "diff(cos(x),x)"
      ],
      "metadata": {
        "colab": {
          "base_uri": "https://localhost:8080/",
          "height": 38
        },
        "id": "29JC7CObanWw",
        "outputId": "90ff5227-8b91-4115-b1b0-b15ed5fd7997"
      },
      "execution_count": 11,
      "outputs": [
        {
          "output_type": "execute_result",
          "data": {
            "text/plain": [
              "-sin(x)"
            ],
            "text/latex": "$\\displaystyle - \\sin{\\left(x \\right)}$"
          },
          "metadata": {},
          "execution_count": 11
        }
      ]
    }
  ]
}